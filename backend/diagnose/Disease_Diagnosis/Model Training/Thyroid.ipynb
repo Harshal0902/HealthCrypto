{
 "cells": [
  {
   "cell_type": "code",
   "execution_count": 1,
   "id": "7c423fcc",
   "metadata": {},
   "outputs": [],
   "source": [
    "# importing the required libraries\n",
    "import pandas as pd\n",
    "import numpy as np\n",
    "from sklearn.model_selection import train_test_split\n",
    "from sklearn.ensemble import RandomForestClassifier\n",
    "from sklearn.linear_model import LogisticRegression\n",
    "import pickle"
   ]
  },
  {
   "cell_type": "code",
   "execution_count": 2,
   "id": "69c2fb7d",
   "metadata": {},
   "outputs": [],
   "source": [
    "# loading the dataset\n",
    "df = pd.read_csv('../datasets/thyroid.csv')"
   ]
  },
  {
   "cell_type": "code",
   "execution_count": 3,
   "id": "c32d3d1d",
   "metadata": {
    "scrolled": true
   },
   "outputs": [
    {
     "data": {
      "text/html": [
       "<div>\n",
       "<style scoped>\n",
       "    .dataframe tbody tr th:only-of-type {\n",
       "        vertical-align: middle;\n",
       "    }\n",
       "\n",
       "    .dataframe tbody tr th {\n",
       "        vertical-align: top;\n",
       "    }\n",
       "\n",
       "    .dataframe thead th {\n",
       "        text-align: right;\n",
       "    }\n",
       "</style>\n",
       "<table border=\"1\" class=\"dataframe\">\n",
       "  <thead>\n",
       "    <tr style=\"text-align: right;\">\n",
       "      <th></th>\n",
       "      <th>Age</th>\n",
       "      <th>Sex</th>\n",
       "      <th>On_thyroxine</th>\n",
       "      <th>Query_on_thyroxine</th>\n",
       "      <th>On_antithyroid_medication</th>\n",
       "      <th>Sick</th>\n",
       "      <th>Pregnant</th>\n",
       "      <th>Thyroid surgery</th>\n",
       "      <th>I131_treatment</th>\n",
       "      <th>Query_hypothyroid</th>\n",
       "      <th>...</th>\n",
       "      <th>Goiter</th>\n",
       "      <th>Tumor</th>\n",
       "      <th>Hypopituitary</th>\n",
       "      <th>Psych</th>\n",
       "      <th>TSH</th>\n",
       "      <th>T3</th>\n",
       "      <th>TT4</th>\n",
       "      <th>T4U</th>\n",
       "      <th>FTI</th>\n",
       "      <th>Class</th>\n",
       "    </tr>\n",
       "  </thead>\n",
       "  <tbody>\n",
       "    <tr>\n",
       "      <th>0</th>\n",
       "      <td>0.24</td>\n",
       "      <td>0</td>\n",
       "      <td>0</td>\n",
       "      <td>0</td>\n",
       "      <td>0</td>\n",
       "      <td>0</td>\n",
       "      <td>0</td>\n",
       "      <td>0</td>\n",
       "      <td>0</td>\n",
       "      <td>0</td>\n",
       "      <td>...</td>\n",
       "      <td>0</td>\n",
       "      <td>0</td>\n",
       "      <td>0</td>\n",
       "      <td>0</td>\n",
       "      <td>0.00025</td>\n",
       "      <td>0.030</td>\n",
       "      <td>0.143</td>\n",
       "      <td>0.133</td>\n",
       "      <td>0.108</td>\n",
       "      <td>3</td>\n",
       "    </tr>\n",
       "    <tr>\n",
       "      <th>1</th>\n",
       "      <td>0.47</td>\n",
       "      <td>0</td>\n",
       "      <td>0</td>\n",
       "      <td>0</td>\n",
       "      <td>0</td>\n",
       "      <td>0</td>\n",
       "      <td>0</td>\n",
       "      <td>0</td>\n",
       "      <td>0</td>\n",
       "      <td>0</td>\n",
       "      <td>...</td>\n",
       "      <td>0</td>\n",
       "      <td>0</td>\n",
       "      <td>0</td>\n",
       "      <td>0</td>\n",
       "      <td>0.00190</td>\n",
       "      <td>0.024</td>\n",
       "      <td>0.102</td>\n",
       "      <td>0.131</td>\n",
       "      <td>0.078</td>\n",
       "      <td>3</td>\n",
       "    </tr>\n",
       "    <tr>\n",
       "      <th>2</th>\n",
       "      <td>0.64</td>\n",
       "      <td>1</td>\n",
       "      <td>0</td>\n",
       "      <td>0</td>\n",
       "      <td>0</td>\n",
       "      <td>0</td>\n",
       "      <td>0</td>\n",
       "      <td>0</td>\n",
       "      <td>0</td>\n",
       "      <td>0</td>\n",
       "      <td>...</td>\n",
       "      <td>0</td>\n",
       "      <td>0</td>\n",
       "      <td>0</td>\n",
       "      <td>0</td>\n",
       "      <td>0.00090</td>\n",
       "      <td>0.017</td>\n",
       "      <td>0.077</td>\n",
       "      <td>0.090</td>\n",
       "      <td>0.085</td>\n",
       "      <td>3</td>\n",
       "    </tr>\n",
       "    <tr>\n",
       "      <th>3</th>\n",
       "      <td>0.23</td>\n",
       "      <td>0</td>\n",
       "      <td>0</td>\n",
       "      <td>0</td>\n",
       "      <td>0</td>\n",
       "      <td>0</td>\n",
       "      <td>0</td>\n",
       "      <td>0</td>\n",
       "      <td>0</td>\n",
       "      <td>0</td>\n",
       "      <td>...</td>\n",
       "      <td>0</td>\n",
       "      <td>0</td>\n",
       "      <td>0</td>\n",
       "      <td>0</td>\n",
       "      <td>0.00025</td>\n",
       "      <td>0.026</td>\n",
       "      <td>0.139</td>\n",
       "      <td>0.090</td>\n",
       "      <td>0.153</td>\n",
       "      <td>3</td>\n",
       "    </tr>\n",
       "    <tr>\n",
       "      <th>4</th>\n",
       "      <td>0.69</td>\n",
       "      <td>1</td>\n",
       "      <td>0</td>\n",
       "      <td>0</td>\n",
       "      <td>0</td>\n",
       "      <td>0</td>\n",
       "      <td>0</td>\n",
       "      <td>0</td>\n",
       "      <td>0</td>\n",
       "      <td>0</td>\n",
       "      <td>...</td>\n",
       "      <td>0</td>\n",
       "      <td>0</td>\n",
       "      <td>0</td>\n",
       "      <td>0</td>\n",
       "      <td>0.00025</td>\n",
       "      <td>0.016</td>\n",
       "      <td>0.086</td>\n",
       "      <td>0.070</td>\n",
       "      <td>0.123</td>\n",
       "      <td>3</td>\n",
       "    </tr>\n",
       "  </tbody>\n",
       "</table>\n",
       "<p>5 rows × 22 columns</p>\n",
       "</div>"
      ],
      "text/plain": [
       "    Age  Sex  On_thyroxine  Query_on_thyroxine  On_antithyroid_medication  \\\n",
       "0  0.24    0             0                   0                          0   \n",
       "1  0.47    0             0                   0                          0   \n",
       "2  0.64    1             0                   0                          0   \n",
       "3  0.23    0             0                   0                          0   \n",
       "4  0.69    1             0                   0                          0   \n",
       "\n",
       "   Sick  Pregnant  Thyroid surgery  I131_treatment  Query_hypothyroid  ...  \\\n",
       "0     0         0                0               0                  0  ...   \n",
       "1     0         0                0               0                  0  ...   \n",
       "2     0         0                0               0                  0  ...   \n",
       "3     0         0                0               0                  0  ...   \n",
       "4     0         0                0               0                  0  ...   \n",
       "\n",
       "   Goiter  Tumor  Hypopituitary  Psych      TSH     T3    TT4    T4U    FTI  \\\n",
       "0       0      0              0      0  0.00025  0.030  0.143  0.133  0.108   \n",
       "1       0      0              0      0  0.00190  0.024  0.102  0.131  0.078   \n",
       "2       0      0              0      0  0.00090  0.017  0.077  0.090  0.085   \n",
       "3       0      0              0      0  0.00025  0.026  0.139  0.090  0.153   \n",
       "4       0      0              0      0  0.00025  0.016  0.086  0.070  0.123   \n",
       "\n",
       "   Class  \n",
       "0      3  \n",
       "1      3  \n",
       "2      3  \n",
       "3      3  \n",
       "4      3  \n",
       "\n",
       "[5 rows x 22 columns]"
      ]
     },
     "execution_count": 3,
     "metadata": {},
     "output_type": "execute_result"
    }
   ],
   "source": [
    "# first 5 rows\n",
    "df.head()\n",
    "\n",
    "# Age is in years/100\n",
    "# Sex: 0:Female, 1:Male \n",
    "# Age, TSH, T3, TT4, T4U, FTI are continuous variables\n",
    "# rest are categorical variables"
   ]
  },
  {
   "cell_type": "code",
   "execution_count": 4,
   "id": "ba77bc8d",
   "metadata": {},
   "outputs": [
    {
     "data": {
      "text/html": [
       "<div>\n",
       "<style scoped>\n",
       "    .dataframe tbody tr th:only-of-type {\n",
       "        vertical-align: middle;\n",
       "    }\n",
       "\n",
       "    .dataframe tbody tr th {\n",
       "        vertical-align: top;\n",
       "    }\n",
       "\n",
       "    .dataframe thead th {\n",
       "        text-align: right;\n",
       "    }\n",
       "</style>\n",
       "<table border=\"1\" class=\"dataframe\">\n",
       "  <thead>\n",
       "    <tr style=\"text-align: right;\">\n",
       "      <th></th>\n",
       "      <th>Age</th>\n",
       "      <th>Sex</th>\n",
       "      <th>On_thyroxine</th>\n",
       "      <th>Query_on_thyroxine</th>\n",
       "      <th>On_antithyroid_medication</th>\n",
       "      <th>Sick</th>\n",
       "      <th>Pregnant</th>\n",
       "      <th>Thyroid surgery</th>\n",
       "      <th>I131_treatment</th>\n",
       "      <th>Query_hypothyroid</th>\n",
       "      <th>...</th>\n",
       "      <th>Goiter</th>\n",
       "      <th>Tumor</th>\n",
       "      <th>Hypopituitary</th>\n",
       "      <th>Psych</th>\n",
       "      <th>TSH</th>\n",
       "      <th>T3</th>\n",
       "      <th>TT4</th>\n",
       "      <th>T4U</th>\n",
       "      <th>FTI</th>\n",
       "      <th>Class</th>\n",
       "    </tr>\n",
       "  </thead>\n",
       "  <tbody>\n",
       "    <tr>\n",
       "      <th>count</th>\n",
       "      <td>7198.000000</td>\n",
       "      <td>7198.000000</td>\n",
       "      <td>7198.000000</td>\n",
       "      <td>7198.000000</td>\n",
       "      <td>7198.000000</td>\n",
       "      <td>7198.000000</td>\n",
       "      <td>7198.000000</td>\n",
       "      <td>7198.000000</td>\n",
       "      <td>7198.000000</td>\n",
       "      <td>7198.000000</td>\n",
       "      <td>...</td>\n",
       "      <td>7198.000000</td>\n",
       "      <td>7198.000000</td>\n",
       "      <td>7198.000000</td>\n",
       "      <td>7198.000000</td>\n",
       "      <td>7198.000000</td>\n",
       "      <td>7198.000000</td>\n",
       "      <td>7198.000000</td>\n",
       "      <td>7198.000000</td>\n",
       "      <td>7198.000000</td>\n",
       "      <td>7198.000000</td>\n",
       "    </tr>\n",
       "    <tr>\n",
       "      <th>mean</th>\n",
       "      <td>0.520521</td>\n",
       "      <td>0.304390</td>\n",
       "      <td>0.130453</td>\n",
       "      <td>0.015421</td>\n",
       "      <td>0.012781</td>\n",
       "      <td>0.038344</td>\n",
       "      <td>0.010836</td>\n",
       "      <td>0.014032</td>\n",
       "      <td>0.016671</td>\n",
       "      <td>0.065574</td>\n",
       "      <td>...</td>\n",
       "      <td>0.008197</td>\n",
       "      <td>0.025563</td>\n",
       "      <td>0.000139</td>\n",
       "      <td>0.048902</td>\n",
       "      <td>0.004862</td>\n",
       "      <td>0.019976</td>\n",
       "      <td>0.109428</td>\n",
       "      <td>0.097836</td>\n",
       "      <td>0.113214</td>\n",
       "      <td>2.902890</td>\n",
       "    </tr>\n",
       "    <tr>\n",
       "      <th>std</th>\n",
       "      <td>0.189260</td>\n",
       "      <td>0.460181</td>\n",
       "      <td>0.336824</td>\n",
       "      <td>0.123228</td>\n",
       "      <td>0.112338</td>\n",
       "      <td>0.192039</td>\n",
       "      <td>0.103539</td>\n",
       "      <td>0.117630</td>\n",
       "      <td>0.128045</td>\n",
       "      <td>0.247553</td>\n",
       "      <td>...</td>\n",
       "      <td>0.090170</td>\n",
       "      <td>0.157837</td>\n",
       "      <td>0.011787</td>\n",
       "      <td>0.215679</td>\n",
       "      <td>0.022982</td>\n",
       "      <td>0.007539</td>\n",
       "      <td>0.035973</td>\n",
       "      <td>0.019082</td>\n",
       "      <td>0.036099</td>\n",
       "      <td>0.365817</td>\n",
       "    </tr>\n",
       "    <tr>\n",
       "      <th>min</th>\n",
       "      <td>0.010000</td>\n",
       "      <td>0.000000</td>\n",
       "      <td>0.000000</td>\n",
       "      <td>0.000000</td>\n",
       "      <td>0.000000</td>\n",
       "      <td>0.000000</td>\n",
       "      <td>0.000000</td>\n",
       "      <td>0.000000</td>\n",
       "      <td>0.000000</td>\n",
       "      <td>0.000000</td>\n",
       "      <td>...</td>\n",
       "      <td>0.000000</td>\n",
       "      <td>0.000000</td>\n",
       "      <td>0.000000</td>\n",
       "      <td>0.000000</td>\n",
       "      <td>0.000000</td>\n",
       "      <td>0.000500</td>\n",
       "      <td>0.002000</td>\n",
       "      <td>0.017000</td>\n",
       "      <td>0.002000</td>\n",
       "      <td>1.000000</td>\n",
       "    </tr>\n",
       "    <tr>\n",
       "      <th>25%</th>\n",
       "      <td>0.370000</td>\n",
       "      <td>0.000000</td>\n",
       "      <td>0.000000</td>\n",
       "      <td>0.000000</td>\n",
       "      <td>0.000000</td>\n",
       "      <td>0.000000</td>\n",
       "      <td>0.000000</td>\n",
       "      <td>0.000000</td>\n",
       "      <td>0.000000</td>\n",
       "      <td>0.000000</td>\n",
       "      <td>...</td>\n",
       "      <td>0.000000</td>\n",
       "      <td>0.000000</td>\n",
       "      <td>0.000000</td>\n",
       "      <td>0.000000</td>\n",
       "      <td>0.000710</td>\n",
       "      <td>0.017000</td>\n",
       "      <td>0.089000</td>\n",
       "      <td>0.087000</td>\n",
       "      <td>0.095000</td>\n",
       "      <td>3.000000</td>\n",
       "    </tr>\n",
       "    <tr>\n",
       "      <th>50%</th>\n",
       "      <td>0.550000</td>\n",
       "      <td>0.000000</td>\n",
       "      <td>0.000000</td>\n",
       "      <td>0.000000</td>\n",
       "      <td>0.000000</td>\n",
       "      <td>0.000000</td>\n",
       "      <td>0.000000</td>\n",
       "      <td>0.000000</td>\n",
       "      <td>0.000000</td>\n",
       "      <td>0.000000</td>\n",
       "      <td>...</td>\n",
       "      <td>0.000000</td>\n",
       "      <td>0.000000</td>\n",
       "      <td>0.000000</td>\n",
       "      <td>0.000000</td>\n",
       "      <td>0.001700</td>\n",
       "      <td>0.020100</td>\n",
       "      <td>0.107000</td>\n",
       "      <td>0.097000</td>\n",
       "      <td>0.111000</td>\n",
       "      <td>3.000000</td>\n",
       "    </tr>\n",
       "    <tr>\n",
       "      <th>75%</th>\n",
       "      <td>0.670000</td>\n",
       "      <td>1.000000</td>\n",
       "      <td>0.000000</td>\n",
       "      <td>0.000000</td>\n",
       "      <td>0.000000</td>\n",
       "      <td>0.000000</td>\n",
       "      <td>0.000000</td>\n",
       "      <td>0.000000</td>\n",
       "      <td>0.000000</td>\n",
       "      <td>0.000000</td>\n",
       "      <td>...</td>\n",
       "      <td>0.000000</td>\n",
       "      <td>0.000000</td>\n",
       "      <td>0.000000</td>\n",
       "      <td>0.000000</td>\n",
       "      <td>0.002700</td>\n",
       "      <td>0.022000</td>\n",
       "      <td>0.125000</td>\n",
       "      <td>0.104000</td>\n",
       "      <td>0.127000</td>\n",
       "      <td>3.000000</td>\n",
       "    </tr>\n",
       "    <tr>\n",
       "      <th>max</th>\n",
       "      <td>0.970000</td>\n",
       "      <td>1.000000</td>\n",
       "      <td>1.000000</td>\n",
       "      <td>1.000000</td>\n",
       "      <td>1.000000</td>\n",
       "      <td>1.000000</td>\n",
       "      <td>1.000000</td>\n",
       "      <td>1.000000</td>\n",
       "      <td>1.000000</td>\n",
       "      <td>1.000000</td>\n",
       "      <td>...</td>\n",
       "      <td>1.000000</td>\n",
       "      <td>1.000000</td>\n",
       "      <td>1.000000</td>\n",
       "      <td>1.000000</td>\n",
       "      <td>0.530000</td>\n",
       "      <td>0.180000</td>\n",
       "      <td>0.600000</td>\n",
       "      <td>0.233000</td>\n",
       "      <td>0.642000</td>\n",
       "      <td>3.000000</td>\n",
       "    </tr>\n",
       "  </tbody>\n",
       "</table>\n",
       "<p>8 rows × 22 columns</p>\n",
       "</div>"
      ],
      "text/plain": [
       "               Age          Sex  On_thyroxine  Query_on_thyroxine  \\\n",
       "count  7198.000000  7198.000000   7198.000000         7198.000000   \n",
       "mean      0.520521     0.304390      0.130453            0.015421   \n",
       "std       0.189260     0.460181      0.336824            0.123228   \n",
       "min       0.010000     0.000000      0.000000            0.000000   \n",
       "25%       0.370000     0.000000      0.000000            0.000000   \n",
       "50%       0.550000     0.000000      0.000000            0.000000   \n",
       "75%       0.670000     1.000000      0.000000            0.000000   \n",
       "max       0.970000     1.000000      1.000000            1.000000   \n",
       "\n",
       "       On_antithyroid_medication         Sick     Pregnant  Thyroid surgery  \\\n",
       "count                7198.000000  7198.000000  7198.000000      7198.000000   \n",
       "mean                    0.012781     0.038344     0.010836         0.014032   \n",
       "std                     0.112338     0.192039     0.103539         0.117630   \n",
       "min                     0.000000     0.000000     0.000000         0.000000   \n",
       "25%                     0.000000     0.000000     0.000000         0.000000   \n",
       "50%                     0.000000     0.000000     0.000000         0.000000   \n",
       "75%                     0.000000     0.000000     0.000000         0.000000   \n",
       "max                     1.000000     1.000000     1.000000         1.000000   \n",
       "\n",
       "       I131_treatment  Query_hypothyroid  ...       Goiter        Tumor  \\\n",
       "count     7198.000000        7198.000000  ...  7198.000000  7198.000000   \n",
       "mean         0.016671           0.065574  ...     0.008197     0.025563   \n",
       "std          0.128045           0.247553  ...     0.090170     0.157837   \n",
       "min          0.000000           0.000000  ...     0.000000     0.000000   \n",
       "25%          0.000000           0.000000  ...     0.000000     0.000000   \n",
       "50%          0.000000           0.000000  ...     0.000000     0.000000   \n",
       "75%          0.000000           0.000000  ...     0.000000     0.000000   \n",
       "max          1.000000           1.000000  ...     1.000000     1.000000   \n",
       "\n",
       "       Hypopituitary        Psych          TSH           T3          TT4  \\\n",
       "count    7198.000000  7198.000000  7198.000000  7198.000000  7198.000000   \n",
       "mean        0.000139     0.048902     0.004862     0.019976     0.109428   \n",
       "std         0.011787     0.215679     0.022982     0.007539     0.035973   \n",
       "min         0.000000     0.000000     0.000000     0.000500     0.002000   \n",
       "25%         0.000000     0.000000     0.000710     0.017000     0.089000   \n",
       "50%         0.000000     0.000000     0.001700     0.020100     0.107000   \n",
       "75%         0.000000     0.000000     0.002700     0.022000     0.125000   \n",
       "max         1.000000     1.000000     0.530000     0.180000     0.600000   \n",
       "\n",
       "               T4U          FTI        Class  \n",
       "count  7198.000000  7198.000000  7198.000000  \n",
       "mean      0.097836     0.113214     2.902890  \n",
       "std       0.019082     0.036099     0.365817  \n",
       "min       0.017000     0.002000     1.000000  \n",
       "25%       0.087000     0.095000     3.000000  \n",
       "50%       0.097000     0.111000     3.000000  \n",
       "75%       0.104000     0.127000     3.000000  \n",
       "max       0.233000     0.642000     3.000000  \n",
       "\n",
       "[8 rows x 22 columns]"
      ]
     },
     "execution_count": 4,
     "metadata": {},
     "output_type": "execute_result"
    }
   ],
   "source": [
    "# describing the structure of the dataset\n",
    "df.describe()"
   ]
  },
  {
   "cell_type": "code",
   "execution_count": 5,
   "id": "b2d9bcd7",
   "metadata": {},
   "outputs": [
    {
     "data": {
      "text/plain": [
       "Age                          0\n",
       "Sex                          0\n",
       "On_thyroxine                 0\n",
       "Query_on_thyroxine           0\n",
       "On_antithyroid_medication    0\n",
       "Sick                         0\n",
       "Pregnant                     0\n",
       "Thyroid surgery              0\n",
       "I131_treatment               0\n",
       "Query_hypothyroid            0\n",
       "Query_hyperthyroid           0\n",
       "Lithium                      0\n",
       "Goiter                       0\n",
       "Tumor                        0\n",
       "Hypopituitary                0\n",
       "Psych                        0\n",
       "TSH                          0\n",
       "T3                           0\n",
       "TT4                          0\n",
       "T4U                          0\n",
       "FTI                          0\n",
       "Class                        0\n",
       "dtype: int64"
      ]
     },
     "execution_count": 5,
     "metadata": {},
     "output_type": "execute_result"
    }
   ],
   "source": [
    "# there are no null values in oud dataset\n",
    "df.isna().sum()"
   ]
  },
  {
   "cell_type": "code",
   "execution_count": 6,
   "id": "0362a3bb",
   "metadata": {},
   "outputs": [
    {
     "data": {
      "text/plain": [
       "3    6665\n",
       "2     367\n",
       "1     166\n",
       "Name: Class, dtype: int64"
      ]
     },
     "execution_count": 6,
     "metadata": {},
     "output_type": "execute_result"
    }
   ],
   "source": [
    "# 3 - Hyperhyroidism\n",
    "# 2 - Hypothyroidism\n",
    "# 1 - Normal\n",
    "df.Class.value_counts()"
   ]
  },
  {
   "cell_type": "code",
   "execution_count": 7,
   "id": "eac1caed",
   "metadata": {},
   "outputs": [],
   "source": [
    "# splitting the data into test and train sets\n",
    "X = df.drop('Class', axis=1)\n",
    "y = df.Class\n",
    "X_train, X_test, y_train, y_test = train_test_split(X, y, stratify=y, test_size=0.15, random_state=143)"
   ]
  },
  {
   "cell_type": "code",
   "execution_count": 8,
   "id": "9a671c55",
   "metadata": {},
   "outputs": [
    {
     "data": {
      "text/plain": [
       "LogisticRegression(max_iter=1000)"
      ]
     },
     "execution_count": 8,
     "metadata": {},
     "output_type": "execute_result"
    }
   ],
   "source": [
    "# trying the Logistic Regression Model\n",
    "model_lr = LogisticRegression(max_iter=1000)\n",
    "model_lr.fit(X_test, y_test)"
   ]
  },
  {
   "cell_type": "code",
   "execution_count": 9,
   "id": "e5ec65bc",
   "metadata": {
    "scrolled": true
   },
   "outputs": [
    {
     "data": {
      "text/plain": [
       "0.9259259259259259"
      ]
     },
     "execution_count": 9,
     "metadata": {},
     "output_type": "execute_result"
    }
   ],
   "source": [
    "# Accuracy achieved = 92%\n",
    "model_lr.score(X_test, y_test)"
   ]
  },
  {
   "cell_type": "code",
   "execution_count": 10,
   "id": "3e901f52",
   "metadata": {
    "scrolled": true
   },
   "outputs": [
    {
     "data": {
      "text/plain": [
       "RandomForestClassifier()"
      ]
     },
     "execution_count": 10,
     "metadata": {},
     "output_type": "execute_result"
    }
   ],
   "source": [
    "# trying the Random Forest Classifier Model\n",
    "model_rf = RandomForestClassifier()\n",
    "model_rf.fit(X_train, y_train)"
   ]
  },
  {
   "cell_type": "code",
   "execution_count": 11,
   "id": "963d85b6",
   "metadata": {},
   "outputs": [
    {
     "data": {
      "text/plain": [
       "0.9962962962962963"
      ]
     },
     "execution_count": 11,
     "metadata": {},
     "output_type": "execute_result"
    }
   ],
   "source": [
    "# Accuracy achieved = 99%\n",
    "model_rf.score(X_test, y_test)"
   ]
  },
  {
   "cell_type": "code",
   "execution_count": 12,
   "id": "5ccf1dc1",
   "metadata": {},
   "outputs": [],
   "source": [
    "predictions = model_rf.predict(X_test)"
   ]
  },
  {
   "cell_type": "code",
   "execution_count": 13,
   "id": "bd4a27f8",
   "metadata": {},
   "outputs": [],
   "source": [
    "from sklearn.metrics import confusion_matrix\n",
    "cm = confusion_matrix(y_test, predictions)"
   ]
  },
  {
   "cell_type": "code",
   "execution_count": 14,
   "id": "9c0854c9",
   "metadata": {
    "scrolled": false
   },
   "outputs": [
    {
     "data": {
      "text/plain": [
       "Text(33.0, 0.5, 'Truth')"
      ]
     },
     "execution_count": 14,
     "metadata": {},
     "output_type": "execute_result"
    },
    {
     "data": {
      "image/png": "[encoded data removed]",
      "text/plain": [
       "<Figure size 432x288 with 2 Axes>"
      ]
     },
     "metadata": {
      "needs_background": "light"
     },
     "output_type": "display_data"
    }
   ],
   "source": [
    "# printing the confusion matrix\n",
    "%matplotlib inline\n",
    "import matplotlib.pyplot as plt\n",
    "import seaborn as sn\n",
    "plt.figure(figsize=(6,4))\n",
    "sn.heatmap(cm, annot=True, )\n",
    "plt.xlabel('Predicted')\n",
    "plt.ylabel('Truth')"
   ]
  },
  {
   "cell_type": "code",
   "execution_count": 15,
   "id": "1370dbba",
   "metadata": {},
   "outputs": [
    {
     "name": "stdout",
     "output_type": "stream",
     "text": [
      "              precision    recall  f1-score   support\n",
      "\n",
      "           1       0.96      0.96      0.96        25\n",
      "           2       0.98      0.98      0.98        55\n",
      "           3       1.00      1.00      1.00      1000\n",
      "\n",
      "    accuracy                           1.00      1080\n",
      "   macro avg       0.98      0.98      0.98      1080\n",
      "weighted avg       1.00      1.00      1.00      1080\n",
      "\n"
     ]
    }
   ],
   "source": [
    "# printing the classification report\n",
    "from sklearn.metrics import classification_report\n",
    "print(classification_report(y_test, predictions))"
   ]
  },
  {
   "cell_type": "code",
   "execution_count": 16,
   "id": "8daa33b3",
   "metadata": {},
   "outputs": [],
   "source": [
    "# saving the trained model for later use\n",
    "pickle.dump(model_rf,open('../Saved Models/thyroid.pickle','wb'))"
   ]
  }
 ],
 "metadata": {
  "kernelspec": {
   "display_name": "Python 3",
   "language": "python",
   "name": "python3"
  },
  "language_info": {
   "codemirror_mode": {
    "name": "ipython",
    "version": 3
   },
   "file_extension": ".py",
   "mimetype": "text/x-python",
   "name": "python",
   "nbconvert_exporter": "python",
   "pygments_lexer": "ipython3",
   "version": "3.8.8"
  }
 },
 "nbformat": 4,
 "nbformat_minor": 5
}
